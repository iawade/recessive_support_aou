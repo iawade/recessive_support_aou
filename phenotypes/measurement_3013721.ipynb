{
 "cells": [
  {
   "cell_type": "markdown",
   "id": "0",
   "metadata": {},
   "source": [
    "\n",
    "<div class='alert alert-info' style='font-family:Arial; font-size:20px' ><center><font size=\"6\"> Lab Measurement(s) 3013721 <br><br><font size=5> Aspartate Aminotransferase</font></center></div>\n",
    "\n",
    "This notebook details how the data for laboratory measurement(s) 3013721 was curated for All by All analysis. The sections are as follows:\n",
    "\n",
    "- **Notebook setup**: Import Unifier python library, read reference tables into memory.\n",
    "- **Unit harmonization and outlier removal**: Select measurement of interest, harmonize all reported units to a standard unit, and remove outlier values.\n",
    "- **Data visualization**: Plot the data before and after unit harmonization to assess efficacy and identify the need for further quality control processes.\n",
    "- **Quality control**: Drop data for the selected laboratory measurement at sites with data quality concerns after unit harmonization, as needed.\n",
    "- **Changing outlier boundaries**: Change the thresholds used to define outliers for the selected laboratory measurement, as needed.\n",
    "- **Participant-level summary**: Obtain a table of participant-level summary (min, median, max, latest, and count of measurements) from the curated data.\n",
    "\n",
    "\n",
    "**Note:** This notebook has been automatically generated. If you wish to rerun it, you need to select the '*Python 3*' kernel (top menu) for the code to run. You would also need to run the set up cell in the '0_ReadMe' notebook once.\n",
    "    \n",
    "# Notebook setup\n",
    "In this section you will import the Unifier python library and read reference tables into memory. "
   ]
  },
  {
   "cell_type": "code",
   "execution_count": null,
   "id": "1",
   "metadata": {},
   "outputs": [],
   "source": [
    "from unifier_functions import *\n",
    "from IPython.core.interactiveshell import InteractiveShell\n",
    "\n",
    "# Read in tables for unit processing\n",
    "tables = read_tables(pipeline_version='v1_0')\n",
    "metadata = tables['metadata']\n",
    "unit_map_table = tables['unit_map']\n",
    "unit_reduce_table = tables['unit_reduce']"
   ]
  },
  {
   "cell_type": "markdown",
   "id": "2",
   "metadata": {},
   "source": [
    "# Unit harmonization and outlier removal\n",
    "In this section you will perform unit harmonization for measurement(s) of interest and remove outlier values.\n",
    "\n",
    "## Select measurement of interest\n",
    "The cell below is used to select the measurement of interest by defining the measurement_concept_id.\n",
    "\n",
    "Please note that multiple measurement_concept_id's can be assigned to process the data for these measurements as seen in Example 2."
   ]
  },
  {
   "cell_type": "code",
   "execution_count": null,
   "id": "3",
   "metadata": {},
   "outputs": [],
   "source": [
    "# Define m_cid as a list of integers containing the OMOP measurement_concept_id for the measurement of interest\n",
    "m_cid = [3013721]\n",
    "\n",
    "# Query CDR v7 Controlled Tier\n",
    "measurement = measurement_data(m_cid)\n",
    "\n",
    "# Summarize OMOP query\n",
    "query_summary(measurement)"
   ]
  },
  {
   "cell_type": "markdown",
   "id": "4",
   "metadata": {},
   "source": [
    "# Harmonize units and drop outlier values\n",
    "The cell below will harmonize all units to a standard unit as defined in the resource *metadata* by applying conversion factors specified in the resource *unit_reduce_table. Outlier values are dropped based on upper and lower thresholds in the metadata* resource.\n",
    "\n",
    "The lifecycle of the selected measurement unit and value data is detailed in the *df_harmonized* dataframe.\n",
    "\n",
    "The processed data is written as the *df_final* dataframe."
   ]
  },
  {
   "cell_type": "code",
   "execution_count": null,
   "id": "5",
   "metadata": {},
   "outputs": [],
   "source": [
    "# Preprocess the input measurement dataframe and ensure it meets the proper format for Unifier\n",
    "preprocessed = preprocess(measurement)\n",
    "\n",
    "# Produce dataframe with lifecycle of measurement unit harmonization and labeling missing/outlier values\n",
    "df_harmonized = harmonize(preprocessed, metadata, unit_map_table, unit_reduce_table)\n",
    "\n",
    "# Final dataframe with measurement data after completing unit harmonization and dropping outliers\n",
    "df_final = trim(df_harmonized)\n",
    "\n",
    "# Descriptive statistics after outliers are removed\n",
    "unitdata = units_dist(df_harmonized)"
   ]
  },
  {
   "cell_type": "markdown",
   "id": "6",
   "metadata": {},
   "source": [
    "The cell below will plot all data for the selected *measurement_concept_id* in the original reported units. \n",
    "The vertical red line indicates the upper threshold used to define outliers but is only applicable on the plot for values in the standard unit.\n",
    "\n",
    "The standard unit and outlier thresholds for each measurement included in All by All are defined in the *metadata* table."
   ]
  },
  {
   "cell_type": "code",
   "execution_count": null,
   "id": "7",
   "metadata": {},
   "outputs": [],
   "source": [
    "InteractiveShell.ast_node_interactivity = \"all\"\n",
    "\n",
    "max_value = metadata[metadata['measurement_concept_id']==m_cid[0]]['maximum_value'].iloc[0]\n",
    "unit_list = df_harmonized['assigned_unit'].unique()\n",
    "sorted_unit_list = np.sort(unit_list)\n",
    "value_type = 'unedited_value_as_number'\n",
    "\n",
    "print(\"You can change bin size using the 'bin_factor' argument.\")\n",
    "for unit_name in sorted_unit_list:\n",
    "    plot_hist_single_lab_unit(df_harmonized, df_harmonized['lab_name'].iloc[0], unit_name, value_type\n",
    "                                ,maximum_value=max_value,low_cutoff=0, high_cutoff=max_value*10, bin_factor=100)\n"
   ]
  },
  {
   "cell_type": "markdown",
   "id": "8",
   "metadata": {},
   "source": [
    "# Data visualization\n",
    "In this section you will plot measurement data before and after unit harmonization and outlier filtering. \n",
    "The data will be formatted as boxplots and stratified by electronic health record site and unit type. This will help visualize the data to assess the effectiveness of the Unifier workflow on preparing measurement data in a research-ready format.\n",
    "\n",
    "## Visualization prior to unit harmonization and outlier filtering\n",
    "The cell below plots the original data in their reported units without processing. These plots do exclude frequencies of missing values and missing value equivalents (i.e. value_as_number == 10,000,000 AND value_as_number == 100,000,000).\n"
   ]
  },
  {
   "cell_type": "code",
   "execution_count": null,
   "id": "9",
   "metadata": {},
   "outputs": [],
   "source": [
    "#bplot_filtered displays all values for the lab measurement in the original units\n",
    "bplot_filtered = boxplot(df_harmonized, 'annotated', fill_col='assigned_unit', value_col='unedited_value_as_number')\n",
    "bplot_filtered"
   ]
  },
  {
   "cell_type": "markdown",
   "id": "10",
   "metadata": {},
   "source": [
    "## Visualization after data processing\n",
    "The cell below plots the data which were able to be harmonized to the standard unit and were not labeled as outliers."
   ]
  },
  {
   "cell_type": "code",
   "execution_count": null,
   "id": "11",
   "metadata": {},
   "outputs": [],
   "source": [
    "# bplot_final displays only non-outlier values which were able to be harmonized to the standard unit\n",
    "bplot_final = boxplot(df_final, 'final', fill_col='unit', value_col='value_as_number')\n",
    "bplot_final"
   ]
  },
  {
   "cell_type": "markdown",
   "id": "12",
   "metadata": {},
   "source": [
    "# Quality Control\n",
    "This section of the notebook allows the user to drop the data from a site which did not harmonize correctly when applicable. \n",
    "In the first line of code below, specfic site(s) can be inputted to drop all data corresponding to the site. The dataframe containing processed data is updated and are re-plotted to allow visualization of the data following removal of specific site(s) data. \n"
   ]
  },
  {
   "cell_type": "code",
   "execution_count": null,
   "id": "13",
   "metadata": {},
   "outputs": [],
   "source": [
    "#Drop all data from sites which did not harmonize correctly, if applicable\n",
    "## Multiple sites can be inputted as a list to drop values corresponding to all sites listed.\n",
    "df_harmonized_dropped = drop_ehr_site(df_harmonized, which_sites = [250])\n",
    "\n",
    "#Regenerate df_trimmed using the updated df_harmonized, if applicable\n",
    "df_trimmed_dropped = trim(df_harmonized_dropped)\n",
    "\n",
    "#Plot bplot_final again after removing sites which did not harmonize correctly\n",
    "bplot_final = boxplot(df_trimmed_dropped, 'final', fill_col='unit', value_col='value_as_number')\n",
    "bplot_final"
   ]
  },
  {
   "cell_type": "markdown",
   "id": "14",
   "metadata": {},
   "source": [
    "# Changing outlier boundaries\n",
    "This section of code allows users to update the upper and lower outlier thresholds as needed. \n",
    "Sections 1 - 3 of the notebook should be re-run using the updated_metadata table after updating the bounds to curate the lab measurements using the newly defined bounds.\n",
    "\n",
    "The cell below outputs the original minimum and maximum value for the lab measurement defined in the metadata table."
   ]
  },
  {
   "cell_type": "code",
   "execution_count": null,
   "id": "15",
   "metadata": {},
   "outputs": [],
   "source": [
    "#metadata[metadata['lab_name']=='hematocrit']"
   ]
  },
  {
   "cell_type": "markdown",
   "id": "16",
   "metadata": {},
   "source": [
    "The cell below should be used to update outlier bounds. The third argument defines the minimum (lower) bound and the fourth argument defines the maximum (upper) bound. The values for the upper and lower bounds should be specified in the standard units."
   ]
  },
  {
   "cell_type": "code",
   "execution_count": null,
   "id": "17",
   "metadata": {},
   "outputs": [],
   "source": [
    "#updated_metadata = update_outlier_bounds(metadata, 'hematocrit', None, 1000)"
   ]
  },
  {
   "cell_type": "markdown",
   "id": "18",
   "metadata": {},
   "source": [
    "This cell outputs the updated minimum and maximum value for the lab measurement defined in the metadata table."
   ]
  },
  {
   "cell_type": "code",
   "execution_count": null,
   "id": "19",
   "metadata": {},
   "outputs": [],
   "source": [
    "#updated_metadata[updated_metadata['lab_name']=='hematocrit']"
   ]
  },
  {
   "cell_type": "markdown",
   "id": "20",
   "metadata": {},
   "source": [
    "# Participant-level summary\n",
    "The cell below summarizes the curated data at the participant level."
   ]
  },
  {
   "cell_type": "code",
   "execution_count": null,
   "id": "21",
   "metadata": {},
   "outputs": [],
   "source": [
    "pid_summary = pid_level_summary([3013721], df_trimmed_dropped)\n",
    "pid_summary.head()"
   ]
  }
 ],
 "metadata": {
  "language_info": {
   "codemirror_mode": {
    "name": "ipython",
    "version": 3
   },
   "file_extension": ".py",
   "mimetype": "text/x-python",
   "name": "python",
   "nbconvert_exporter": "python",
   "pygments_lexer": "ipython3",
   "version": "3.10.12"
  }
 },
 "nbformat": 4,
 "nbformat_minor": 5
}
